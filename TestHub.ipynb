{
 "cells": [
  {
   "cell_type": "markdown",
   "id": "c784f76c-b40d-4047-bd3c-21a5e7ecca96",
   "metadata": {},
   "source": [
    "## Purpose\n",
    "Tests during development of vvmtools, plottools, etc."
   ]
  },
  {
   "cell_type": "markdown",
   "id": "9e4f8781-1ad4-43d0-8a8e-15e0166d750d",
   "metadata": {},
   "source": [
    "### Import"
   ]
  },
  {
   "cell_type": "code",
   "execution_count": 1,
   "id": "a3a03716-d838-4162-aa6d-cf55088f9900",
   "metadata": {},
   "outputs": [],
   "source": [
    "import numpy as np\n",
    "import pandas as pd\n",
    "import xarray as xr\n",
    "from datetime import *\n",
    "\n",
    "import matplotlib.pyplot as plt\n",
    "import matplotlib.colors as colors\n",
    "import seaborn.colors.xkcd_rgb as c\n",
    "import cmaps\n",
    "import cartopy.crs as ccrs\n",
    "import cartopy.feature as cfeature"
   ]
  },
  {
   "cell_type": "code",
   "execution_count": 2,
   "id": "ccbefb07-4665-4948-adc8-b9a35c2fe839",
   "metadata": {},
   "outputs": [],
   "source": [
    "import vvmtools as vvmtools_aaron"
   ]
  },
  {
   "cell_type": "code",
   "execution_count": null,
   "id": "7594bd29-2431-4976-88c1-26da3bcf18e2",
   "metadata": {},
   "outputs": [],
   "source": []
  }
 ],
 "metadata": {
  "kernelspec": {
   "display_name": "Python 3 (ipykernel)",
   "language": "python",
   "name": "python3"
  },
  "language_info": {
   "codemirror_mode": {
    "name": "ipython",
    "version": 3
   },
   "file_extension": ".py",
   "mimetype": "text/x-python",
   "name": "python",
   "nbconvert_exporter": "python",
   "pygments_lexer": "ipython3",
   "version": "3.9.7"
  }
 },
 "nbformat": 4,
 "nbformat_minor": 5
}
